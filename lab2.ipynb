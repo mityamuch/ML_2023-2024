{
  "nbformat": 4,
  "nbformat_minor": 0,
  "metadata": {
    "colab": {
      "provenance": [],
      "authorship_tag": "ABX9TyNaTR+KrN1sTTCJyb7wgSYh",
      "include_colab_link": true
    },
    "kernelspec": {
      "name": "python3",
      "display_name": "Python 3"
    },
    "language_info": {
      "name": "python"
    }
  },
  "cells": [
    {
      "cell_type": "markdown",
      "metadata": {
        "id": "view-in-github",
        "colab_type": "text"
      },
      "source": [
        "<a href=\"https://colab.research.google.com/github/mityamuch/ML_2023-2024/blob/main/lab2.ipynb\" target=\"_parent\"><img src=\"https://colab.research.google.com/assets/colab-badge.svg\" alt=\"Open In Colab\"/></a>"
      ]
    },
    {
      "cell_type": "markdown",
      "source": [
        "2. Глобальная оптимизация и метаэврестические алгоритмы\n",
        "     1. В Pygmo запрогроммировать две своих тестовых функции и найти их оптимум 3 разными алгоритмами доступными в библиотеке и получить таблицу сравнения\n",
        "     "
      ],
      "metadata": {
        "id": "sgbvEOFl7hUh"
      }
    },
    {
      "cell_type": "code",
      "execution_count": 3,
      "metadata": {
        "colab": {
          "base_uri": "https://localhost:8080/"
        },
        "id": "rSlXY1lE7gMc",
        "outputId": "f506c40a-1c81-4e79-aab0-6f4d2cedfa50"
      },
      "outputs": [
        {
          "output_type": "stream",
          "name": "stdout",
          "text": [
            "Collecting pygmo\n",
            "  Downloading pygmo-2.19.5-cp310-cp310-manylinux_2_28_x86_64.whl (14.7 MB)\n",
            "\u001b[2K     \u001b[90m━━━━━━━━━━━━━━━━━━━━━━━━━━━━━━━━━━━━━━━━\u001b[0m \u001b[32m14.7/14.7 MB\u001b[0m \u001b[31m29.0 MB/s\u001b[0m eta \u001b[36m0:00:00\u001b[0m\n",
            "\u001b[?25hRequirement already satisfied: numpy in /usr/local/lib/python3.10/dist-packages (from pygmo) (1.23.5)\n",
            "Requirement already satisfied: cloudpickle in /usr/local/lib/python3.10/dist-packages (from pygmo) (2.2.1)\n",
            "Requirement already satisfied: scipy in /usr/local/lib/python3.10/dist-packages (from pygmo) (1.11.4)\n",
            "Installing collected packages: pygmo\n",
            "Successfully installed pygmo-2.19.5\n"
          ]
        }
      ],
      "source": [
        "%pip install pygmo"
      ]
    },
    {
      "cell_type": "code",
      "source": [
        "import pygmo as pg\n",
        "import numpy as np\n",
        "\n",
        "class CustomFunction1:\n",
        "    def fitness(self, x):\n",
        "        # Здесь первая тестовая функция\n",
        "        return [np.sum(x**2)]\n",
        "\n",
        "    def get_bounds(self):\n",
        "        # Ограничения для переменных\n",
        "        return ([-5, -5], [5, 5])\n",
        "\n",
        "class CustomFunction2:\n",
        "    def fitness(self, x):\n",
        "        # Здесь вторая тестовая функция\n",
        "        return [np.sum(np.abs(x)) + np.prod(np.abs(x))]\n",
        "\n",
        "    def get_bounds(self):\n",
        "        # Ограничения для переменных\n",
        "        return ([-5, -5], [5, 5])"
      ],
      "metadata": {
        "id": "TQn23G3H7g6P"
      },
      "execution_count": 10,
      "outputs": []
    },
    {
      "cell_type": "markdown",
      "source": [
        "Алгоритмы для Тестирования:\n",
        "\n",
        "*       Генетический алгоритм (GA)\n",
        "*       Дифференциальная эволюция (DE)\n",
        "*       Алгоритм частицы роя оптимизации (PSO)\n",
        "\n",
        "\n",
        "\n",
        "\n",
        "\n",
        "\n"
      ],
      "metadata": {
        "id": "QmPghFN38Wsx"
      }
    },
    {
      "cell_type": "code",
      "source": [
        "# Инициализация алгоритмов\n",
        "algo1 = pg.algorithm(pg.de(gen = 100))\n",
        "algo2 = pg.algorithm(pg.pso(gen = 100))\n",
        "algo3 = pg.algorithm(pg.sga(gen = 100))\n",
        "\n",
        "# Создание проблем оптимизации\n",
        "prob1 = pg.problem(CustomFunction1())\n",
        "prob2 = pg.problem(CustomFunction2())\n",
        "\n",
        "# Оптимизация\n",
        "results = []\n",
        "for algo in [algo1, algo2, algo3]:\n",
        "    for prob in [prob1, prob2]:\n",
        "        pop = pg.population(prob, 10)\n",
        "        pop = algo.evolve(pop)\n",
        "        results.append([algo.get_name(), prob.get_name(), pop.champion_f[0]])\n",
        "\n",
        "for result in results:\n",
        "    print(\"Algorithm: {}, Problem: {}, Best Fitness: {}\".format(*result))"
      ],
      "metadata": {
        "colab": {
          "base_uri": "https://localhost:8080/"
        },
        "id": "8y96Ls4I8SN-",
        "outputId": "fb0b8bae-a13c-41fc-e05e-ac2fe20619d1"
      },
      "execution_count": 12,
      "outputs": [
        {
          "output_type": "stream",
          "name": "stdout",
          "text": [
            "Algorithm: DE: Differential Evolution, Problem: <class '__main__.CustomFunction1'>, Best Fitness: 1.1891246345636721e-09\n",
            "Algorithm: DE: Differential Evolution, Problem: <class '__main__.CustomFunction2'>, Best Fitness: 2.9539369501605165e-07\n",
            "Algorithm: PSO: Particle Swarm Optimization, Problem: <class '__main__.CustomFunction1'>, Best Fitness: 8.255728333426205e-09\n",
            "Algorithm: PSO: Particle Swarm Optimization, Problem: <class '__main__.CustomFunction2'>, Best Fitness: 2.5519877141236442e-05\n",
            "Algorithm: SGA: Genetic Algorithm, Problem: <class '__main__.CustomFunction1'>, Best Fitness: 0.009469935146590112\n",
            "Algorithm: SGA: Genetic Algorithm, Problem: <class '__main__.CustomFunction2'>, Best Fitness: 0.637497644135048\n"
          ]
        }
      ]
    },
    {
      "cell_type": "markdown",
      "source": [
        "\n",
        "Соберем результаты в таблицу для сравнения. В Python это можно сделать с помощью pandas DataFrame:"
      ],
      "metadata": {
        "id": "BqYgdCvx8wwW"
      }
    },
    {
      "cell_type": "code",
      "source": [
        "import pandas as pd\n",
        "\n",
        "# Создание DataFrame из результатов\n",
        "df = pd.DataFrame(results, columns=['Algorithm', 'Problem', 'Best Fitness'])\n",
        "\n",
        "# Печать таблицы\n",
        "print(df)"
      ],
      "metadata": {
        "colab": {
          "base_uri": "https://localhost:8080/"
        },
        "id": "jHbLtZrA8vFh",
        "outputId": "765341a3-94c0-4316-9ea2-dcae4171f3c1"
      },
      "execution_count": 13,
      "outputs": [
        {
          "output_type": "stream",
          "name": "stdout",
          "text": [
            "                          Algorithm                             Problem  \\\n",
            "0        DE: Differential Evolution  <class '__main__.CustomFunction1'>   \n",
            "1        DE: Differential Evolution  <class '__main__.CustomFunction2'>   \n",
            "2  PSO: Particle Swarm Optimization  <class '__main__.CustomFunction1'>   \n",
            "3  PSO: Particle Swarm Optimization  <class '__main__.CustomFunction2'>   \n",
            "4            SGA: Genetic Algorithm  <class '__main__.CustomFunction1'>   \n",
            "5            SGA: Genetic Algorithm  <class '__main__.CustomFunction2'>   \n",
            "\n",
            "   Best Fitness  \n",
            "0  1.189125e-09  \n",
            "1  2.953937e-07  \n",
            "2  8.255728e-09  \n",
            "3  2.551988e-05  \n",
            "4  9.469935e-03  \n",
            "5  6.374976e-01  \n"
          ]
        }
      ]
    }
  ]
}